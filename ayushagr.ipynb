{
 "cells": [
  {
   "cell_type": "markdown",
   "id": "a56f92a5-36ea-403f-b6fe-60060a8ab7cd",
   "metadata": {},
   "source": [
    "import numpy as np\n",
    "import pandas as pd\n",
    "\n",
    "#for data visualization \n",
    "import matplotlib.pyplot as plt\n",
    "import seaborn as sns\n",
    "\n",
    "# for interactivity \n",
    "from ipywidgets import interact\n",
    "\n",
    "from sklearn.cluster import KMeans\n",
    "from sklearn.linear_model import LogisticRegression\n",
    "\n",
    "from sklearn.model_selection import train_test_split\n",
    "\n",
    "from sklearn.metrics import accuracy_score, precision_score, recall_score, f1_score, roc_auc_score\n",
    "print(\"successful\")"
   ]
  },
  {
   "cell_type": "code",
   "execution_count": 7,
   "id": "d82d17d3-ec00-4c69-b9f1-32cb74f58b6e",
   "metadata": {},
   "outputs": [
    {
     "name": "stdout",
     "output_type": "stream",
     "text": [
      "successful\n"
     ]
    }
   ],
   "source": [
    "data = pd.read_csv(\"Agriculture.csv\")\n",
    "print(\"successful\")"
   ]
  },
  {
   "cell_type": "code",
   "execution_count": 8,
   "id": "9414ecb3-f0e7-4e14-9853-927b7f5b35af",
   "metadata": {},
   "outputs": [
    {
     "data": {
      "text/html": [
       "<div>\n",
       "<style scoped>\n",
       "    .dataframe tbody tr th:only-of-type {\n",
       "        vertical-align: middle;\n",
       "    }\n",
       "\n",
       "    .dataframe tbody tr th {\n",
       "        vertical-align: top;\n",
       "    }\n",
       "\n",
       "    .dataframe thead th {\n",
       "        text-align: right;\n",
       "    }\n",
       "</style>\n",
       "<table border=\"1\" class=\"dataframe\">\n",
       "  <thead>\n",
       "    <tr style=\"text-align: right;\">\n",
       "      <th></th>\n",
       "      <th>N</th>\n",
       "      <th>P</th>\n",
       "      <th>K</th>\n",
       "      <th>temperature</th>\n",
       "      <th>humidity</th>\n",
       "      <th>ph</th>\n",
       "      <th>rainfall</th>\n",
       "      <th>label</th>\n",
       "    </tr>\n",
       "  </thead>\n",
       "  <tbody>\n",
       "    <tr>\n",
       "      <th>0</th>\n",
       "      <td>90</td>\n",
       "      <td>42</td>\n",
       "      <td>43</td>\n",
       "      <td>20.879744</td>\n",
       "      <td>82.002744</td>\n",
       "      <td>6.502985</td>\n",
       "      <td>202.935536</td>\n",
       "      <td>rice</td>\n",
       "    </tr>\n",
       "    <tr>\n",
       "      <th>1</th>\n",
       "      <td>85</td>\n",
       "      <td>58</td>\n",
       "      <td>41</td>\n",
       "      <td>21.770462</td>\n",
       "      <td>80.319644</td>\n",
       "      <td>7.038096</td>\n",
       "      <td>226.655537</td>\n",
       "      <td>rice</td>\n",
       "    </tr>\n",
       "    <tr>\n",
       "      <th>2</th>\n",
       "      <td>60</td>\n",
       "      <td>55</td>\n",
       "      <td>44</td>\n",
       "      <td>23.004459</td>\n",
       "      <td>82.320763</td>\n",
       "      <td>7.840207</td>\n",
       "      <td>263.964248</td>\n",
       "      <td>rice</td>\n",
       "    </tr>\n",
       "    <tr>\n",
       "      <th>3</th>\n",
       "      <td>74</td>\n",
       "      <td>35</td>\n",
       "      <td>40</td>\n",
       "      <td>26.491096</td>\n",
       "      <td>80.158363</td>\n",
       "      <td>6.980401</td>\n",
       "      <td>242.864034</td>\n",
       "      <td>rice</td>\n",
       "    </tr>\n",
       "    <tr>\n",
       "      <th>4</th>\n",
       "      <td>78</td>\n",
       "      <td>42</td>\n",
       "      <td>42</td>\n",
       "      <td>20.130175</td>\n",
       "      <td>81.604873</td>\n",
       "      <td>7.628473</td>\n",
       "      <td>262.717340</td>\n",
       "      <td>rice</td>\n",
       "    </tr>\n",
       "  </tbody>\n",
       "</table>\n",
       "</div>"
      ],
      "text/plain": [
       "    N   P   K  temperature   humidity        ph    rainfall label\n",
       "0  90  42  43    20.879744  82.002744  6.502985  202.935536  rice\n",
       "1  85  58  41    21.770462  80.319644  7.038096  226.655537  rice\n",
       "2  60  55  44    23.004459  82.320763  7.840207  263.964248  rice\n",
       "3  74  35  40    26.491096  80.158363  6.980401  242.864034  rice\n",
       "4  78  42  42    20.130175  81.604873  7.628473  262.717340  rice"
      ]
     },
     "execution_count": 8,
     "metadata": {},
     "output_type": "execute_result"
    }
   ],
   "source": [
    "data.head(5)\n"
   ]
  },
  {
   "cell_type": "code",
   "execution_count": 9,
   "id": "242bea15-2999-44b6-a3e9-b394ea13d921",
   "metadata": {},
   "outputs": [
    {
     "name": "stdout",
     "output_type": "stream",
     "text": [
      "Shape of the dataset is:  (2200, 8)\n"
     ]
    }
   ],
   "source": [
    "# checking the shape of the dataset :\n",
    "print('Shape of the dataset is: ' , data.shape)"
   ]
  },
  {
   "cell_type": "code",
   "execution_count": 10,
   "id": "3f05aaeb-2457-4788-a8b5-3b8eef2c2d7d",
   "metadata": {},
   "outputs": [
    {
     "name": "stdout",
     "output_type": "stream",
     "text": [
      "Index(['N', 'P', 'K', 'temperature', 'humidity', 'ph', 'rainfall', 'label'], dtype='object')\n"
     ]
    }
   ],
   "source": [
    "# checking the columns Names :\n",
    "print(data.columns)"
   ]
  },
  {
   "cell_type": "code",
   "execution_count": 11,
   "id": "8c378e3c-f535-47df-b93e-ff6acf390a0a",
   "metadata": {},
   "outputs": [
    {
     "name": "stdout",
     "output_type": "stream",
     "text": [
      "    N   P   K  temperature   humidity        ph    rainfall label\n",
      "0  90  42  43    20.879744  82.002744  6.502985  202.935536  rice\n",
      "1  85  58  41    21.770462  80.319644  7.038096  226.655537  rice\n",
      "2  60  55  44    23.004459  82.320763  7.840207  263.964248  rice\n",
      "3  74  35  40    26.491096  80.158363  6.980401  242.864034  rice\n",
      "4  78  42  42    20.130175  81.604873  7.628473  262.717340  rice\n",
      "5  69  37  42    23.058049  83.370118  7.073454  251.055000  rice\n",
      "6  69  55  38    22.708838  82.639414  5.700806  271.324860  rice\n",
      "7  94  53  40    20.277744  82.894086  5.718627  241.974195  rice\n",
      "8  89  54  38    24.515881  83.535216  6.685346  230.446236  rice\n",
      "9  68  58  38    23.223974  83.033227  6.336254  221.209196  rice\n"
     ]
    }
   ],
   "source": [
    "# checking dataset data of first 10 rows by using head function :\n",
    "print(data.head(10))"
   ]
  },
  {
   "cell_type": "code",
   "execution_count": 12,
   "id": "0954b473-0fbb-4d20-a71d-de50fc507b6a",
   "metadata": {
    "scrolled": true
   },
   "outputs": [
    {
     "name": "stdout",
     "output_type": "stream",
     "text": [
      "N              0\n",
      "P              0\n",
      "K              0\n",
      "temperature    0\n",
      "humidity       0\n",
      "ph             0\n",
      "rainfall       0\n",
      "label          0\n",
      "dtype: int64\n"
     ]
    },
    {
     "data": {
      "text/plain": [
       "N              0\n",
       "P              0\n",
       "K              0\n",
       "temperature    0\n",
       "humidity       0\n",
       "ph             0\n",
       "rainfall       0\n",
       "label          0\n",
       "dtype: int64"
      ]
     },
     "execution_count": 12,
     "metadata": {},
     "output_type": "execute_result"
    }
   ],
   "source": [
    "#checking null values to prevent errors:\n",
    "print (data.isnull().sum())\n",
    "\n",
    "#we can do it without print function as well:\n",
    "data.isnull().sum()\n",
    "\n",
    "#we can do it without sum function is well for detailed infromation:"
   ]
  },
  {
   "cell_type": "code",
   "execution_count": 13,
   "id": "2447bde3-91b8-442d-9650-ced12b488dd3",
   "metadata": {},
   "outputs": [
    {
     "data": {
      "text/plain": [
       "label\n",
       "rice           100\n",
       "maize          100\n",
       "chickpea       100\n",
       "kidneybeans    100\n",
       "pigeonpeas     100\n",
       "mothbeans      100\n",
       "mungbean       100\n",
       "blackgram      100\n",
       "lentil         100\n",
       "pomegranate    100\n",
       "banana         100\n",
       "mango          100\n",
       "grapes         100\n",
       "watermelon     100\n",
       "muskmelon      100\n",
       "apple          100\n",
       "orange         100\n",
       "papaya         100\n",
       "coconut        100\n",
       "cotton         100\n",
       "jute           100\n",
       "coffee         100\n",
       "Name: count, dtype: int64"
      ]
     },
     "execution_count": 13,
     "metadata": {},
     "output_type": "execute_result"
    }
   ],
   "source": [
    "# checking the crops preset in our dataset and quantity of it:\n",
    "data['label'].value_counts()"
   ]
  },
  {
   "cell_type": "code",
   "execution_count": 14,
   "id": "f40d3ed2-1b1b-41f8-b6a5-5b4c283ab1c4",
   "metadata": {},
   "outputs": [
    {
     "name": "stdout",
     "output_type": "stream",
     "text": [
      "Average Ratio of Nitrogen in the soil : 50.551818\n",
      "Average Ratio of Phosphorous in the soil : 53.362727\n",
      "Average Ratio of Potassium in the soil : 48.149091\n",
      "Average Temperature in Celsius : 25.616244\n",
      "Average Relative Humidity in % : 71.481779\n",
      "Average PH value of the soil: 6.469480\n",
      "Average Rainfall in mm: 103.463655\n"
     ]
    }
   ],
   "source": [
    "# checking the summary of all crops :\n",
    "\n",
    "print('Average Ratio of Nitrogen in the soil : {0:2f}'.format(data['N'].mean()))\n",
    "print('Average Ratio of Phosphorous in the soil : {0:2f}'.format(data['P'].mean()))\n",
    "print('Average Ratio of Potassium in the soil : {0:2f}'.format(data['K'].mean()))\n",
    "print('Average Temperature in Celsius : {0:2f}'.format(data['temperature'].mean()))\n",
    "print('Average Relative Humidity in % : {0:2f}'.format(data['humidity'].mean()))\n",
    "print('Average PH value of the soil: {0:2f}'.format(data['ph'].mean()))\n",
    "print('Average Rainfall in mm: {0:2f}'.format(data['rainfall'].mean()))"
   ]
  },
  {
   "cell_type": "code",
   "execution_count": 15,
   "id": "791d4b43-be50-416a-8760-1ab7bcef7673",
   "metadata": {},
   "outputs": [
    {
     "data": {
      "application/vnd.jupyter.widget-view+json": {
       "model_id": "21f6392366a94cd39769b387d2507235",
       "version_major": 2,
       "version_minor": 0
      },
      "text/plain": [
       "interactive(children=(Dropdown(description='crops', options=('rice', 'maize', 'chickpea', 'kidneybeans', 'pige…"
      ]
     },
     "metadata": {},
     "output_type": "display_data"
    }
   ],
   "source": [
    "@interact\n",
    "def summary(crops = list(data['label'].value_counts().index)):\n",
    "    x = data[data['label'] == crops]\n",
    "    print('-------------------------------------------------')\n",
    "    print(\"Statistics for Nitrogen\")\n",
    "    print(\"Minimum Nitrogen Required :\", x['N'].min())\n",
    "    print('Average Nitrogen Required :', x['N'].mean())\n",
    "    print('Maximum Nitrogen Required :', x['N'].max())\n",
    "    print('-------------------------------------------------')\n",
    "    print('Statistics for Phosphorous')\n",
    "    print('Minimum Phosphorous Required :', x['P'].min())\n",
    "    print('Average Phosphorous Required :', x['P'].mean())\n",
    "    print('Maximum Phosphorous Required :', x['P'].max())\n",
    "    print('-------------------------------------------------')\n",
    "    print('Statistics for Potassium')\n",
    "    print('Minimum Potassium Required :', x['K'].min())\n",
    "    print('Average Potassium Required :', x['K'].mean())\n",
    "    print('Maximum Potassium Required :', x['K'].max())\n",
    "    print('-------------------------------------------------')\n",
    "    print('Statistics for Temperature')\n",
    "    print('Minimum Temperature Required : {0:.2f}'.format(x['temperature'].min()))\n",
    "    print('Average Temperature Required : {0:.2f}'.format( x['temperature'].mean()))\n",
    "    print('Maximum Temperature Required : {0:.2f}'.format( x['temperature'].max()))\n",
    "    print('-------------------------------------------------')\n",
    "    print('Statistics for Humidity')\n",
    "    print('Minimum Humidity Required : {0:.2f}'.format(x['humidity'].min()))\n",
    "    print('Average Humidity Required : {0:.2f}'.format( x['humidity'].mean()))\n",
    "    print('Maximum Humidity Required : {0:.2f}'.format( x['humidity'].max()))\n",
    "    print('-------------------------------------------------')\n",
    "    print('Statistics for PH')\n",
    "    print('Minimum PH Required : {0:.2f}'.format(x['ph'].min()))\n",
    "    print('Average PH Required : {0:.2f}'.format( x['ph'].mean()))\n",
    "    print('Maximum PH Required : {0:.2f}'.format( x['ph'].max()))\n",
    "    print('-------------------------------------------------')\n",
    "    print('Statistics for Rainfall')\n",
    "    print('Minimum Rainfall Required : {0:.2f}'.format(x['rainfall'].min()))\n",
    "    print('Average Rainfall Required : {0:.2f}'.format( x['rainfall'].mean()))\n",
    "    print('Maximum Rainfall Required : {0:.2f}'.format( x['rainfall'].max()))\n",
    "    \n"
   ]
  },
  {
   "cell_type": "code",
   "execution_count": 16,
   "id": "85ad8a05-c6ea-444e-97bb-91d4d54f0f24",
   "metadata": {},
   "outputs": [
    {
     "data": {
      "application/vnd.jupyter.widget-view+json": {
       "model_id": "1a7d5fa60a6046488a5c93c481d9854d",
       "version_major": 2,
       "version_minor": 0
      },
      "text/plain": [
       "interactive(children=(Dropdown(description='conditions', options=('N', 'P', 'K', 'temperature', 'ph', 'humidit…"
      ]
     },
     "metadata": {},
     "output_type": "display_data"
    }
   ],
   "source": [
    "@interact\n",
    "def campare(conditions= ['N','P','K','temperature','ph','humidity','rainfall']):\n",
    "    print('Average value for', conditions,'is{0:.2f}'.format(data[conditions].mean()))\n",
    "    print('-------------------------------------------------')\n",
    "    print('Rice : {0:.2f}'.format(data[(data['label']=='rice')][conditions].mean()))\n",
    "    print('Black Grams : {0:.2f}'.format(data[(data['label']=='blackgrams')][conditions].mean()))\n",
    "    print('Banana : {0:.2f}'.format(data[(data['label']=='banana')][conditions].mean()))\n",
    "    print('Jute : {0:.2f}'.format(data[(data['label']=='jute')][conditions].mean()))\n",
    "    print('Coconut : {0:.2f}'.format(data[(data['label']=='coconut')][conditions].mean()))\n",
    "    print('Apple : {0:.2f}'.format(data[(data['label']=='apple')][conditions].mean()))\n",
    "    print('Papaya : {0:.2f}'.format(data[(data['label']=='papaya')][conditions].mean()))\n",
    "    print('Muskmelon : {0:.2f}'.format(data[(data['label']=='muskmelon')][conditions].mean()))\n",
    "    print('Graps : {0:.2f}'.format(data[(data['label']=='graps')][conditions].mean()))\n",
    "    print('Watermelon : {0:.2f}'.format(data[(data['label']=='watermelon')][conditions].mean()))\n",
    "    print('Kidney Beans : {0:.2f}'.format(data[(data['label']=='kidneybeans')][conditions].mean()))\n",
    "    print('Mung Beans : {0:.2f}'.format(data[(data['label']=='mungbeans')][conditions].mean()))\n",
    "    print('Oranges : {0:.2f}'.format(data[(data['label']=='orange')][conditions].mean()))\n",
    "    print('Chick Peas : {0:.2f}'.format(data[(data['label']=='chickpeas')][conditions].mean()))\n",
    "    print('Lentils : {0:.2f}'.format(data[(data['label']=='lentils')][conditions].mean()))\n",
    "    print('Cotton : {0:.2f}'.format(data[(data['label']=='cotton')][conditions].mean()))\n",
    "    print('Maiz : {0:.2f}'.format(data[(data['label']=='maiz')][conditions].mean()))\n",
    "    print('Moth Beans : {0:.2f}'.format(data[(data['label']=='mothbeans')][conditions].mean()))\n",
    "    print('Pigeon Peas : {0:.2f}'.format(data[(data['label']=='pigeonpeas')][conditions].mean()))\n",
    "    print('Mango : {0:.2f}'.format(data[(data['label']=='mango')][conditions].mean()))\n",
    "    print('Pomegranate : {0:.2f}'.format(data[(data['label']=='pomegranate')][conditions].mean()))\n",
    "    print('Coffee : {0:.2f}'.format(data[(data['label']=='coffee')][conditions].mean()))"
   ]
  },
  {
   "cell_type": "code",
   "execution_count": 17,
   "id": "da38dbb8-93e9-4b77-bb61-2fa2255e8f79",
   "metadata": {},
   "outputs": [
    {
     "data": {
      "application/vnd.jupyter.widget-view+json": {
       "model_id": "6a522c0e097c44758600b94f5adeb66d",
       "version_major": 2,
       "version_minor": 0
      },
      "text/plain": [
       "interactive(children=(Dropdown(description='conditions', options=('N', 'P', 'K', 'temperature', 'ph', 'humidit…"
      ]
     },
     "metadata": {},
     "output_type": "display_data"
    }
   ],
   "source": [
    "#adding more function\n",
    "\n",
    "@interact\n",
    "def compare(conditions=['N','P','K','temperature','ph','humidity','rainfall']):\n",
    "    print('Crops which require greater than average',conditions,'\\n')\n",
    "    print(data[data[conditions]>data[conditions].mean()]['label'].unique())\n",
    "    print('-------------------------------------------------')\n",
    "    print('Crops which require less than average',conditions,'\\n')\n",
    "    print(data[data[conditions]<=data[conditions].mean()]['label'].unique())"
   ]
  },
  {
   "cell_type": "code",
   "execution_count": 18,
   "id": "ddfba08e-f16b-45cd-bd34-0784e2b7d754",
   "metadata": {},
   "outputs": [
    {
     "name": "stderr",
     "output_type": "stream",
     "text": [
      "C:\\Users\\ayush\\AppData\\Local\\Temp\\ipykernel_1960\\2611046722.py:2: UserWarning: \n",
      "\n",
      "`distplot` is a deprecated function and will be removed in seaborn v0.14.0.\n",
      "\n",
      "Please adapt your code to use either `displot` (a figure-level function with\n",
      "similar flexibility) or `histplot` (an axes-level function for histograms).\n",
      "\n",
      "For a guide to updating your code to use the new functions, please see\n",
      "https://gist.github.com/mwaskom/de44147ed2974457ad6372750bbe5751\n",
      "\n",
      "  sns.distplot(data['N'], color = 'darkblue')\n",
      "C:\\Users\\ayush\\AppData\\Local\\Temp\\ipykernel_1960\\2611046722.py:7: UserWarning: \n",
      "\n",
      "`distplot` is a deprecated function and will be removed in seaborn v0.14.0.\n",
      "\n",
      "Please adapt your code to use either `displot` (a figure-level function with\n",
      "similar flexibility) or `histplot` (an axes-level function for histograms).\n",
      "\n",
      "For a guide to updating your code to use the new functions, please see\n",
      "https://gist.github.com/mwaskom/de44147ed2974457ad6372750bbe5751\n",
      "\n",
      "  sns.distplot(data['P'], color = 'lightgrey')\n",
      "C:\\Users\\ayush\\AppData\\Local\\Temp\\ipykernel_1960\\2611046722.py:12: UserWarning: \n",
      "\n",
      "`distplot` is a deprecated function and will be removed in seaborn v0.14.0.\n",
      "\n",
      "Please adapt your code to use either `displot` (a figure-level function with\n",
      "similar flexibility) or `histplot` (an axes-level function for histograms).\n",
      "\n",
      "For a guide to updating your code to use the new functions, please see\n",
      "https://gist.github.com/mwaskom/de44147ed2974457ad6372750bbe5751\n",
      "\n",
      "  sns.distplot(data['K'], color = 'black')\n",
      "C:\\Users\\ayush\\AppData\\Local\\Temp\\ipykernel_1960\\2611046722.py:17: UserWarning: \n",
      "\n",
      "`distplot` is a deprecated function and will be removed in seaborn v0.14.0.\n",
      "\n",
      "Please adapt your code to use either `displot` (a figure-level function with\n",
      "similar flexibility) or `histplot` (an axes-level function for histograms).\n",
      "\n",
      "For a guide to updating your code to use the new functions, please see\n",
      "https://gist.github.com/mwaskom/de44147ed2974457ad6372750bbe5751\n",
      "\n",
      "  sns.distplot(data['temperature'], color = 'gray')\n",
      "C:\\Users\\ayush\\AppData\\Local\\Temp\\ipykernel_1960\\2611046722.py:22: UserWarning: \n",
      "\n",
      "`distplot` is a deprecated function and will be removed in seaborn v0.14.0.\n",
      "\n",
      "Please adapt your code to use either `displot` (a figure-level function with\n",
      "similar flexibility) or `histplot` (an axes-level function for histograms).\n",
      "\n",
      "For a guide to updating your code to use the new functions, please see\n",
      "https://gist.github.com/mwaskom/de44147ed2974457ad6372750bbe5751\n",
      "\n",
      "  sns.distplot(data['rainfall'], color = 'lightgreen')\n",
      "C:\\Users\\ayush\\AppData\\Local\\Temp\\ipykernel_1960\\2611046722.py:27: UserWarning: \n",
      "\n",
      "`distplot` is a deprecated function and will be removed in seaborn v0.14.0.\n",
      "\n",
      "Please adapt your code to use either `displot` (a figure-level function with\n",
      "similar flexibility) or `histplot` (an axes-level function for histograms).\n",
      "\n",
      "For a guide to updating your code to use the new functions, please see\n",
      "https://gist.github.com/mwaskom/de44147ed2974457ad6372750bbe5751\n",
      "\n",
      "  sns.distplot(data['humidity'], color = 'darkgreen')\n",
      "C:\\Users\\ayush\\AppData\\Local\\Temp\\ipykernel_1960\\2611046722.py:32: UserWarning: \n",
      "\n",
      "`distplot` is a deprecated function and will be removed in seaborn v0.14.0.\n",
      "\n",
      "Please adapt your code to use either `displot` (a figure-level function with\n",
      "similar flexibility) or `histplot` (an axes-level function for histograms).\n",
      "\n",
      "For a guide to updating your code to use the new functions, please see\n",
      "https://gist.github.com/mwaskom/de44147ed2974457ad6372750bbe5751\n",
      "\n",
      "  sns.distplot(data['ph'], color = 'lightblue')\n"
     ]
    },
    {
     "data": {
      "image/png": "[encoded data removed]",
      "text/plain": [
       "<Figure size 640x480 with 7 Axes>"
      ]
     },
     "metadata": {},
     "output_type": "display_data"
    }
   ],
   "source": [
    "plt.subplot(2,4,1)\n",
    "sns.distplot(data['N'], color = 'darkblue')\n",
    "plt.xlabel('Nitrogen', fontsize=10)\n",
    "plt.grid()\n",
    "\n",
    "plt.subplot(2,4,2)\n",
    "sns.distplot(data['P'], color = 'lightgrey')\n",
    "plt.xlabel('phosphorous', fontsize=10)\n",
    "plt.grid()\n",
    "\n",
    "plt.subplot(2,4,3)\n",
    "sns.distplot(data['K'], color = 'black')\n",
    "plt.xlabel('ratio of Potassium', fontsize=10)\n",
    "plt.grid()\n",
    "\n",
    "plt.subplot(2,4,4)\n",
    "sns.distplot(data['temperature'], color = 'gray')\n",
    "plt.xlabel('Temperature', fontsize=10)\n",
    "plt.grid()\n",
    "\n",
    "plt.subplot(2,4,5)\n",
    "sns.distplot(data['rainfall'], color = 'lightgreen')\n",
    "plt.xlabel('Rainfall', fontsize=10)\n",
    "plt.grid()\n",
    "\n",
    "plt.subplot(2,4,6)\n",
    "sns.distplot(data['humidity'], color = 'darkgreen')\n",
    "plt.xlabel('Humidity', fontsize=10)\n",
    "plt.grid()\n",
    "\n",
    "plt.subplot(2,4,7)\n",
    "sns.distplot(data['ph'], color = 'lightblue')\n",
    "plt.xlabel('PH Level', fontsize=10)\n",
    "plt.grid()\n",
    "\n",
    "\n",
    "plt.suptitle('Distribution of Agricultural Conditions', fontsize=20)\n",
    "plt.show()"
   ]
  },
  {
   "cell_type": "code",
   "execution_count": 19,
   "id": "32548c3b-6584-4f64-a566-7bb1dbc1db85",
   "metadata": {},
   "outputs": [
    {
     "name": "stdout",
     "output_type": "stream",
     "text": [
      "some interesting patterns\n",
      "-------------------------------------------------\n",
      "Crops which require very high Ratio of Nitrogen Content in soil : ['cotton']\n",
      "-------------------------------------------------\n",
      "Crops which require very high Ratio of Phosphorous Content in soil : ['grapes' 'apple']\n",
      "-------------------------------------------------\n",
      "Crops which require very high Ratio of Potassium Content in soil : ['grapes' 'apple']\n",
      "-------------------------------------------------\n",
      "Crops which require very high Ratio of Rainfall Content in soil : ['rice' 'papaya' 'coconut']\n",
      "-------------------------------------------------\n",
      "Crops which require very low Temperature : ['grapes']\n",
      "-------------------------------------------------\n",
      "Crops which require very high Temperature : ['grapes' 'papaya']\n",
      "-------------------------------------------------\n",
      "Crops which require very low HUmidity : ['chickpea' 'kidneybeans']\n",
      "-------------------------------------------------\n",
      "Crops which require very low PH : ['mothbeans']\n",
      "-------------------------------------------------\n",
      "Crops which require very high PH : ['mothbeans']\n"
     ]
    }
   ],
   "source": [
    "# finding some interesting facts\n",
    "\n",
    "print('some interesting patterns')\n",
    "print('-------------------------------------------------')\n",
    "print('Crops which require very high Ratio of Nitrogen Content in soil :', data[data['N']>120]['label'].unique())\n",
    "print('-------------------------------------------------')\n",
    "print('Crops which require very high Ratio of Phosphorous Content in soil :', data[data['P']>100]['label'].unique())\n",
    "print('-------------------------------------------------')\n",
    "print('Crops which require very high Ratio of Potassium Content in soil :', data[data['K']>200]['label'].unique())\n",
    "print('-------------------------------------------------')\n",
    "print('Crops which require very high Ratio of Rainfall Content in soil :', data[data['rainfall']>200]['label'].unique())\n",
    "print('-------------------------------------------------')\n",
    "print('Crops which require very low Temperature :', data[data['temperature']<10]['label'].unique())\n",
    "print('-------------------------------------------------')\n",
    "print('Crops which require very high Temperature :', data[data['temperature']>40]['label'].unique())\n",
    "print('-------------------------------------------------')\n",
    "print('Crops which require very low HUmidity :', data[data['humidity']<20]['label'].unique())\n",
    "print('-------------------------------------------------')\n",
    "print('Crops which require very low PH :', data[data['ph']<4]['label'].unique())\n",
    "print('-------------------------------------------------')\n",
    "print('Crops which require very high PH :', data[data['ph']>9]['label'].unique())"
   ]
  },
  {
   "cell_type": "code",
   "execution_count": 20,
   "id": "29348afb-7bbf-47ec-aca9-a414380f43ee",
   "metadata": {},
   "outputs": [
    {
     "name": "stdout",
     "output_type": "stream",
     "text": [
      "Summer Season Crops\n",
      "['pigeonpeas' 'mothbeans' 'blackgram' 'mango' 'grapes' 'orange' 'papaya']\n",
      "-------------------------------------------------\n",
      "Winter Season Crops\n",
      "['maize' 'pigeonpeas' 'lentil' 'pomegranate' 'grapes' 'orange']\n",
      "-------------------------------------------------\n",
      "Rainy Season Crops\n",
      "['rice' 'papaya' 'coconut']\n"
     ]
    }
   ],
   "source": [
    "# Understanding which crops can on be grown in summer,winter season and rainy season\n",
    "\n",
    "print('Summer Season Crops')\n",
    "print(data[(data['temperature']>30) &(data['humidity']>50)]['label'].unique())\n",
    "print('-------------------------------------------------')\n",
    "print('Winter Season Crops')\n",
    "print(data[(data['temperature']<20) &(data['humidity']>30)]['label'].unique())\n",
    "print('-------------------------------------------------')\n",
    "print('Rainy Season Crops')\n",
    "print(data[(data['rainfall']>200) &(data['humidity']>30)]['label'].unique())"
   ]
  },
  {
   "cell_type": "code",
   "execution_count": 21,
   "id": "f397f56b-aec0-4c47-ad5e-a34c6d5b3ccb",
   "metadata": {},
   "outputs": [
    {
     "name": "stdout",
     "output_type": "stream",
     "text": [
      "(2200, 7)\n"
     ]
    }
   ],
   "source": [
    "from sklearn.cluster import KMeans\n",
    "\n",
    "#Removing the label column cause there is no need of label in clustering\n",
    "x = data.drop(['label'],axis=1)\n",
    "\n",
    "#Selecting all the values of the data\n",
    "x = x.values\n",
    "\n",
    "print(x.shape)"
   ]
  },
  {
   "cell_type": "code",
   "execution_count": 22,
   "id": "d436292c-5057-4987-a12f-bb261ded94d4",
   "metadata": {},
   "outputs": [
    {
     "data": {
      "image/png": "[encoded data removed]",
      "text/plain": [
       "<Figure size 1000x400 with 1 Axes>"
      ]
     },
     "metadata": {},
     "output_type": "display_data"
    }
   ],
   "source": [
    "# determine the Optimum Number of Cluster withing dataset\n",
    "plt.rcParams['figure.figsize']=(10,4)\n",
    "\n",
    "wcss = []\n",
    "for i  in range(1,11):\n",
    "    km = KMeans(n_clusters = i, init= 'k-means++', max_iter = 300, n_init = 10, random_state =0)\n",
    "    km.fit(x)\n",
    "    wcss.append(km.inertia_)\n",
    "\n",
    "#lets plot the results\n",
    "plt.plot(range(1,11), wcss)\n",
    "plt.title('The Elbow Method', fontsize=20)\n",
    "plt.xlabel('No of Clusters')\n",
    "plt.ylabel('wcss')\n",
    "plt.show()"
   ]
  },
  {
   "cell_type": "code",
   "execution_count": 23,
   "id": "8dfc5d4a-dc85-400a-8ef9-ab96fbfefd98",
   "metadata": {},
   "outputs": [],
   "source": [
    "# implementing the KMeans algorithm to perform Clustering analysis\n",
    "\n",
    "km=KMeans(n_clusters = 4, init= 'k-means++', max_iter = 300, n_init = 10, random_state =0)\n",
    "y_means = km.fit_predict(x)\n",
    "\n",
    "#lets find out the Results\n",
    "a = data['label']\n",
    "y_means= pd.DataFrame(y_means)\n",
    "z= pd.concat([y_means, a], axis =1)\n",
    "z=z.rename(columns = {0: 'cluster'})"
   ]
  },
  {
   "cell_type": "code",
   "execution_count": 24,
   "id": "c71d8e11-e03f-4140-a3ae-4829dfd38e93",
   "metadata": {},
   "outputs": [
    {
     "name": "stdout",
     "output_type": "stream",
     "text": [
      "Crops in First cluster :  ['grapes' 'apple']\n",
      "------------------------------------------------------\n",
      "Crops in Second cluster :  ['maize' 'chickpea' 'kidneybeans' 'pigeonpeas' 'mothbeans' 'mungbean'\n",
      " 'blackgram' 'lentil' 'pomegranate' 'mango' 'orange' 'papaya' 'coconut']\n",
      "------------------------------------------------------\n",
      "Crops in Third cluster :  ['maize' 'banana' 'watermelon' 'muskmelon' 'papaya' 'cotton' 'coffee']\n",
      "------------------------------------------------------\n",
      "Crops in Fourth cluster :  ['rice' 'pigeonpeas' 'papaya' 'coconut' 'jute' 'coffee']\n",
      "------------------------------------------------------\n"
     ]
    }
   ],
   "source": [
    "#let check the clusters of each Crops\n",
    "print('Crops in First cluster : ', z[z['cluster']==0]['label'].unique())\n",
    "print('------------------------------------------------------')\n",
    "print('Crops in Second cluster : ', z[z['cluster']==1]['label'].unique())\n",
    "print('------------------------------------------------------')\n",
    "print('Crops in Third cluster : ', z[z['cluster']==2]['label'].unique())\n",
    "print('------------------------------------------------------')\n",
    "print('Crops in Fourth cluster : ', z[z['cluster']==3]['label'].unique())\n",
    "print('------------------------------------------------------')"
   ]
  },
  {
   "cell_type": "code",
   "execution_count": 25,
   "id": "188efdf4-a5d1-4d76-922c-70cc521f63d7",
   "metadata": {},
   "outputs": [
    {
     "name": "stdout",
     "output_type": "stream",
     "text": [
      "Shape of x:  (2200, 7)\n",
      "Shape of Y:  (2200,)\n"
     ]
    }
   ],
   "source": [
    "y = data['label']\n",
    "x = data.drop(['label'], axis = 1)\n",
    "\n",
    "print('Shape of x: ', x.shape)\n",
    "print('Shape of Y: ', y.shape)"
   ]
  },
  {
   "cell_type": "code",
   "execution_count": 26,
   "id": "05f7efa7-abfe-458e-8a83-4d13d44d3787",
   "metadata": {},
   "outputs": [
    {
     "name": "stdout",
     "output_type": "stream",
     "text": [
      "The Shape of x Train:  (1760, 7)\n",
      "The Shape of x Test:  (440, 7)\n",
      "The Shape of y Train:  (1760,)\n",
      "The Shape of y Train:  (440,)\n"
     ]
    }
   ],
   "source": [
    "# let create training and testing sets for validation of results\n",
    "\n",
    "from sklearn.model_selection import train_test_split\n",
    "\n",
    "x_train, x_test, y_train, y_test = train_test_split(x, y, test_size = 0.2, random_state=0)\n",
    "\n",
    "print('The Shape of x Train: ', x_train.shape)\n",
    "print('The Shape of x Test: ', x_test.shape)\n",
    "print('The Shape of y Train: ', y_train.shape)\n",
    "print('The Shape of y Train: ', y_test.shape)"
   ]
  },
  {
   "cell_type": "code",
   "execution_count": 47,
   "id": "27863019-0d5e-4a74-8314-eccbf1a1512b",
   "metadata": {},
   "outputs": [
    {
     "name": "stderr",
     "output_type": "stream",
     "text": [
      "C:\\Python\\Python310\\lib\\site-packages\\sklearn\\linear_model\\_logistic.py:469: ConvergenceWarning: lbfgs failed to converge (status=1):\n",
      "STOP: TOTAL NO. of ITERATIONS REACHED LIMIT.\n",
      "\n",
      "Increase the number of iterations (max_iter) or scale the data as shown in:\n",
      "    https://scikit-learn.org/stable/modules/preprocessing.html\n",
      "Please also refer to the documentation for alternative solver options:\n",
      "    https://scikit-learn.org/stable/modules/linear_model.html#logistic-regression\n",
      "  n_iter_i = _check_optimize_result(\n"
     ]
    }
   ],
   "source": [
    "#lets creat a model\n",
    "from sklearn.linear_model import LogisticRegression\n",
    "\n",
    "model = LogisticRegression(max_iter=1000, solver='lbfgs')\n",
    "model.fit(x_train, y_train)\n",
    "y_pred= model.predict(x_test)"
   ]
  },
  {
   "cell_type": "code",
   "execution_count": 41,
   "id": "91a0547e-1f62-402b-beb0-8842a99f457b",
   "metadata": {},
   "outputs": [
    {
     "data": {
      "image/png": "[encoded data removed]",
      "text/plain": [
       "<Figure size 1000x1000 with 2 Axes>"
      ]
     },
     "metadata": {},
     "output_type": "display_data"
    }
   ],
   "source": [
    "# lets Evalute the Model Performance\n",
    "from sklearn.metrics import confusion_matrix\n",
    "\n",
    "#lets print the confussion matrix first\n",
    "plt.rcParams[\"figure.figsize\"]=(10,10)\n",
    "cm = confusion_matrix(y_test,y_pred)\n",
    "sns.heatmap(cm, annot= True, cmap='Wistia')\n",
    "plt.title('Confussion Matrix for Logistic Regression', fontsize=15)\n",
    "plt.show()"
   ]
  },
  {
   "cell_type": "code",
   "execution_count": 83,
   "id": "f716cd11-3809-431d-a771-97a39970e5cc",
   "metadata": {},
   "outputs": [
    {
     "data": {
      "text/html": [
       "<div>\n",
       "<style scoped>\n",
       "    .dataframe tbody tr th:only-of-type {\n",
       "        vertical-align: middle;\n",
       "    }\n",
       "\n",
       "    .dataframe tbody tr th {\n",
       "        vertical-align: top;\n",
       "    }\n",
       "\n",
       "    .dataframe thead th {\n",
       "        text-align: right;\n",
       "    }\n",
       "</style>\n",
       "<table border=\"1\" class=\"dataframe\">\n",
       "  <thead>\n",
       "    <tr style=\"text-align: right;\">\n",
       "      <th></th>\n",
       "      <th>N</th>\n",
       "      <th>P</th>\n",
       "      <th>K</th>\n",
       "      <th>temperature</th>\n",
       "      <th>humidity</th>\n",
       "      <th>ph</th>\n",
       "      <th>rainfall</th>\n",
       "      <th>label</th>\n",
       "    </tr>\n",
       "  </thead>\n",
       "  <tbody>\n",
       "    <tr>\n",
       "      <th>0</th>\n",
       "      <td>90</td>\n",
       "      <td>42</td>\n",
       "      <td>43</td>\n",
       "      <td>20.879744</td>\n",
       "      <td>82.002744</td>\n",
       "      <td>6.502985</td>\n",
       "      <td>202.935536</td>\n",
       "      <td>rice</td>\n",
       "    </tr>\n",
       "    <tr>\n",
       "      <th>1</th>\n",
       "      <td>85</td>\n",
       "      <td>58</td>\n",
       "      <td>41</td>\n",
       "      <td>21.770462</td>\n",
       "      <td>80.319644</td>\n",
       "      <td>7.038096</td>\n",
       "      <td>226.655537</td>\n",
       "      <td>rice</td>\n",
       "    </tr>\n",
       "    <tr>\n",
       "      <th>2</th>\n",
       "      <td>60</td>\n",
       "      <td>55</td>\n",
       "      <td>44</td>\n",
       "      <td>23.004459</td>\n",
       "      <td>82.320763</td>\n",
       "      <td>7.840207</td>\n",
       "      <td>263.964248</td>\n",
       "      <td>rice</td>\n",
       "    </tr>\n",
       "    <tr>\n",
       "      <th>3</th>\n",
       "      <td>74</td>\n",
       "      <td>35</td>\n",
       "      <td>40</td>\n",
       "      <td>26.491096</td>\n",
       "      <td>80.158363</td>\n",
       "      <td>6.980401</td>\n",
       "      <td>242.864034</td>\n",
       "      <td>rice</td>\n",
       "    </tr>\n",
       "    <tr>\n",
       "      <th>4</th>\n",
       "      <td>78</td>\n",
       "      <td>42</td>\n",
       "      <td>42</td>\n",
       "      <td>20.130175</td>\n",
       "      <td>81.604873</td>\n",
       "      <td>7.628473</td>\n",
       "      <td>262.717340</td>\n",
       "      <td>rice</td>\n",
       "    </tr>\n",
       "  </tbody>\n",
       "</table>\n",
       "</div>"
      ],
      "text/plain": [
       "    N   P   K  temperature   humidity        ph    rainfall label\n",
       "0  90  42  43    20.879744  82.002744  6.502985  202.935536  rice\n",
       "1  85  58  41    21.770462  80.319644  7.038096  226.655537  rice\n",
       "2  60  55  44    23.004459  82.320763  7.840207  263.964248  rice\n",
       "3  74  35  40    26.491096  80.158363  6.980401  242.864034  rice\n",
       "4  78  42  42    20.130175  81.604873  7.628473  262.717340  rice"
      ]
     },
     "execution_count": 83,
     "metadata": {},
     "output_type": "execute_result"
    }
   ],
   "source": [
    "data.head()"
   ]
  },
  {
   "cell_type": "code",
   "execution_count": 29,
   "id": "fc3c16e1-e7da-4c63-8435-92888f033fd9",
   "metadata": {},
   "outputs": [
    {
     "name": "stdout",
     "output_type": "stream",
     "text": [
      "Accuracy: 0.9681818181818181\n",
      "Precision: 0.9699452867394045\n",
      "Recall: 0.9681818181818181\n",
      "F1 Score: 0.9681168080082031\n"
     ]
    }
   ],
   "source": [
    "from sklearn.metrics import accuracy_score, precision_score, recall_score, f1_score, roc_auc_score\n",
    "\n",
    "# Compute additional metrics\n",
    "accuracy = accuracy_score(y_test, y_pred)\n",
    "precision = precision_score(y_test, y_pred, average='weighted') # Use 'weighted' average for multiclass\n",
    "recall = recall_score(y_test, y_pred, average='weighted') # Use 'weighted' average for multiclass\n",
    "f1 = f1_score(y_test, y_pred, average='weighted') # Use 'weighted' average for multiclass\n",
    "\n",
    "print(\"Accuracy:\", accuracy)\n",
    "print(\"Precision:\", precision)\n",
    "print(\"Recall:\", recall)\n",
    "print(\"F1 Score:\", f1)"
   ]
  },
  {
   "cell_type": "code",
   "execution_count": 30,
   "id": "a059ed1f-a89d-407f-a0f6-69acf610c2b7",
   "metadata": {},
   "outputs": [
    {
     "name": "stdout",
     "output_type": "stream",
     "text": [
      "The Suggested Crop for Given Climatic Condition is:  ['coffee']\n"
     ]
    },
    {
     "name": "stderr",
     "output_type": "stream",
     "text": [
      "C:\\Python\\Python310\\lib\\site-packages\\sklearn\\base.py:493: UserWarning: X does not have valid feature names, but LogisticRegression was fitted with feature names\n",
      "  warnings.warn(\n"
     ]
    }
   ],
   "source": [
    "prediction = model.predict(np.array([[90,\n",
    "                                     40,\n",
    "                                     40,\n",
    "                                     20,\n",
    "                                     20,\n",
    "                                     7,\n",
    "                                     200]]))\n",
    "print('The Suggested Crop for Given Climatic Condition is: ', prediction)"
   ]
  }
 ],
 "metadata": {
  "kernelspec": {
   "display_name": "Python 3 (ipykernel)",
   "language": "python",
   "name": "python3"
  },
  "language_info": {
   "codemirror_mode": {
    "name": "ipython",
    "version": 3
   },
   "file_extension": ".py",
   "mimetype": "text/x-python",
   "name": "python",
   "nbconvert_exporter": "python",
   "pygments_lexer": "ipython3",
   "version": "3.10.5"
  }
 },
 "nbformat": 4,
 "nbformat_minor": 5
}
